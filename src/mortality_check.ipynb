{
 "cells": [
  {
   "cell_type": "code",
   "execution_count": 1,
   "metadata": {},
   "outputs": [],
   "source": [
    "import pandas as pd\n",
    "import numpy as np\n",
    "from matplotlib import pyplot as plt\n",
    "from matplotlib import style\n",
    "import os\n",
    "from datetime import datetime"
   ]
  },
  {
   "cell_type": "code",
   "execution_count": 2,
   "metadata": {},
   "outputs": [
    {
     "data": {
      "text/plain": [
       "['usa_county_wise.csv', 'covid_19_clean_complete.csv']"
      ]
     },
     "execution_count": 2,
     "metadata": {},
     "output_type": "execute_result"
    }
   ],
   "source": [
    "DATA_PATH = '../data/covid19_overall/'\n",
    "os.listdir(DATA_PATH)"
   ]
  },
  {
   "cell_type": "code",
   "execution_count": 3,
   "metadata": {},
   "outputs": [],
   "source": [
    "covid_cases = pd.read_csv(f\"{DATA_PATH}covid_19_clean_complete.csv\")\n",
    "covid_cases.columns = covid_cases.columns.str.replace('Country/Region', 'Country')"
   ]
  },
  {
   "cell_type": "code",
   "execution_count": 4,
   "metadata": {},
   "outputs": [
    {
     "data": {
      "text/html": [
       "<div>\n",
       "<style scoped>\n",
       "    .dataframe tbody tr th:only-of-type {\n",
       "        vertical-align: middle;\n",
       "    }\n",
       "\n",
       "    .dataframe tbody tr th {\n",
       "        vertical-align: top;\n",
       "    }\n",
       "\n",
       "    .dataframe thead th {\n",
       "        text-align: right;\n",
       "    }\n",
       "</style>\n",
       "<table border=\"1\" class=\"dataframe\">\n",
       "  <thead>\n",
       "    <tr style=\"text-align: right;\">\n",
       "      <th></th>\n",
       "      <th>Province/State</th>\n",
       "      <th>Country</th>\n",
       "      <th>Lat</th>\n",
       "      <th>Long</th>\n",
       "      <th>Date</th>\n",
       "      <th>Confirmed</th>\n",
       "      <th>Deaths</th>\n",
       "      <th>Recovered</th>\n",
       "    </tr>\n",
       "  </thead>\n",
       "  <tbody>\n",
       "    <tr>\n",
       "      <th>0</th>\n",
       "      <td>NaN</td>\n",
       "      <td>Afghanistan</td>\n",
       "      <td>33.0000</td>\n",
       "      <td>65.0000</td>\n",
       "      <td>1/22/20</td>\n",
       "      <td>0</td>\n",
       "      <td>0</td>\n",
       "      <td>0</td>\n",
       "    </tr>\n",
       "    <tr>\n",
       "      <th>1</th>\n",
       "      <td>NaN</td>\n",
       "      <td>Albania</td>\n",
       "      <td>41.1533</td>\n",
       "      <td>20.1683</td>\n",
       "      <td>1/22/20</td>\n",
       "      <td>0</td>\n",
       "      <td>0</td>\n",
       "      <td>0</td>\n",
       "    </tr>\n",
       "  </tbody>\n",
       "</table>\n",
       "</div>"
      ],
      "text/plain": [
       "  Province/State      Country      Lat     Long     Date  Confirmed  Deaths  \\\n",
       "0            NaN  Afghanistan  33.0000  65.0000  1/22/20          0       0   \n",
       "1            NaN      Albania  41.1533  20.1683  1/22/20          0       0   \n",
       "\n",
       "   Recovered  \n",
       "0          0  \n",
       "1          0  "
      ]
     },
     "execution_count": 4,
     "metadata": {},
     "output_type": "execute_result"
    }
   ],
   "source": [
    "covid_cases.head(2)"
   ]
  },
  {
   "cell_type": "code",
   "execution_count": 5,
   "metadata": {},
   "outputs": [],
   "source": [
    "covid_cases.fillna('', inplace=True)"
   ]
  },
  {
   "cell_type": "code",
   "execution_count": 6,
   "metadata": {},
   "outputs": [
    {
     "data": {
      "text/plain": [
       "['Country', 'Date', 'Confirmed', 'Deaths', 'Recovered']"
      ]
     },
     "execution_count": 6,
     "metadata": {},
     "output_type": "execute_result"
    }
   ],
   "source": [
    "covid_cases.drop(['Province/State','Lat','Long'],axis=1, inplace=True)\n",
    "list(covid_cases.columns)"
   ]
  },
  {
   "cell_type": "code",
   "execution_count": 7,
   "metadata": {},
   "outputs": [],
   "source": [
    "covid_cases = covid_cases.groupby(['Country',\"Date\"], as_index=False)[[\"Confirmed\",\"Deaths\",\"Recovered\"]].sum()"
   ]
  },
  {
   "cell_type": "code",
   "execution_count": 8,
   "metadata": {},
   "outputs": [
    {
     "data": {
      "text/html": [
       "<div>\n",
       "<style scoped>\n",
       "    .dataframe tbody tr th:only-of-type {\n",
       "        vertical-align: middle;\n",
       "    }\n",
       "\n",
       "    .dataframe tbody tr th {\n",
       "        vertical-align: top;\n",
       "    }\n",
       "\n",
       "    .dataframe thead th {\n",
       "        text-align: right;\n",
       "    }\n",
       "</style>\n",
       "<table border=\"1\" class=\"dataframe\">\n",
       "  <thead>\n",
       "    <tr style=\"text-align: right;\">\n",
       "      <th></th>\n",
       "      <th>Country</th>\n",
       "      <th>Date</th>\n",
       "      <th>Confirmed</th>\n",
       "      <th>Deaths</th>\n",
       "      <th>Recovered</th>\n",
       "    </tr>\n",
       "  </thead>\n",
       "  <tbody>\n",
       "    <tr>\n",
       "      <th>0</th>\n",
       "      <td>Afghanistan</td>\n",
       "      <td>1/22/20</td>\n",
       "      <td>0</td>\n",
       "      <td>0</td>\n",
       "      <td>0</td>\n",
       "    </tr>\n",
       "    <tr>\n",
       "      <th>1</th>\n",
       "      <td>Afghanistan</td>\n",
       "      <td>1/23/20</td>\n",
       "      <td>0</td>\n",
       "      <td>0</td>\n",
       "      <td>0</td>\n",
       "    </tr>\n",
       "  </tbody>\n",
       "</table>\n",
       "</div>"
      ],
      "text/plain": [
       "       Country     Date  Confirmed  Deaths  Recovered\n",
       "0  Afghanistan  1/22/20          0       0          0\n",
       "1  Afghanistan  1/23/20          0       0          0"
      ]
     },
     "execution_count": 8,
     "metadata": {},
     "output_type": "execute_result"
    }
   ],
   "source": [
    "covid_cases.head(2)"
   ]
  },
  {
   "cell_type": "code",
   "execution_count": 9,
   "metadata": {},
   "outputs": [],
   "source": [
    "def return_country_dataframe(country:str):\n",
    "    country_cases =  covid_cases.loc[covid_cases[\"Country\"] == country]\n",
    "    country_cases = country_cases.copy()\n",
    "    country_cases[\"Date\"] = pd.to_datetime(country_cases.Date)\n",
    "    country_cases[\"Morality_rate\"] = 100* country_cases[\"Deaths\"]/country_cases[\"Confirmed\"]\n",
    "    country_cases.fillna(0, inplace=True)\n",
    "    country_cases.sort_values(\"Date\")\n",
    "    return country_cases"
   ]
  },
  {
   "cell_type": "code",
   "execution_count": 10,
   "metadata": {},
   "outputs": [],
   "source": [
    "country_name = \"Spain\"\n",
    "spain_df = return_country_dataframe(\"Spain\")"
   ]
  },
  {
   "cell_type": "code",
   "execution_count": 11,
   "metadata": {},
   "outputs": [
    {
     "data": {
      "image/png": "[encoded data removed]",
      "text/plain": [
       "<Figure size 864x576 with 1 Axes>"
      ]
     },
     "metadata": {
      "needs_background": "light"
     },
     "output_type": "display_data"
    }
   ],
   "source": [
    "#Single country mortality\n",
    "plt.title(f\"Deaths in {country_name}\")\n",
    "plt.ylabel(\"patients\")\n",
    "plt.xlabel(\"date\")\n",
    "plt.style.use('ggplot')\n",
    "plt.scatter(spain_df[\"Confirmed\"], spain_df[\"Morality_rate\"], color=\"r\")\n",
    "F = plt.gcf()\n",
    "Size = F.get_size_inches()\n",
    "F.set_size_inches(Size[0]*2, Size[1]*2, forward=True) # Set forward to True to resize window along with plot in figure.\n",
    "plt.show()"
   ]
  },
  {
   "cell_type": "code",
   "execution_count": 12,
   "metadata": {},
   "outputs": [],
   "source": [
    "italy_df = return_country_dataframe(\"Italy\")\n",
    "spain_df = return_country_dataframe(\"Spain\")\n",
    "germany_df = return_country_dataframe(\"Germany\")\n",
    "iran_df = return_country_dataframe(\"Iran\")\n",
    "UK_df = return_country_dataframe(\"United Kingdom\")\n",
    "india_df = return_country_dataframe(\"India\")\n",
    "china_df = return_country_dataframe(\"China\")\n"
   ]
  },
  {
   "cell_type": "code",
   "execution_count": 13,
   "metadata": {},
   "outputs": [
    {
     "data": {
      "image/png": "[encoded data removed]",
      "text/plain": [
       "<Figure size 864x1152 with 1 Axes>"
      ]
     },
     "metadata": {},
     "output_type": "display_data"
    }
   ],
   "source": [
    "#Multiple country mortality\n",
    "plt.title(f\"Deaths in {country_name}\")\n",
    "plt.ylabel(\"patients\")\n",
    "plt.xlabel(\"date\")\n",
    "plt.style.use('ggplot')\n",
    "plt.scatter(spain_df[\"Date\"], spain_df[\"Morality_rate\"], color=\"r\", label=\"Spain\")\n",
    "plt.scatter(italy_df[\"Date\"], italy_df[\"Morality_rate\"], color=\"y\", label=\"Italy\")\n",
    "plt.scatter(germany_df[\"Date\"], germany_df[\"Morality_rate\"], color=\"b\", label=\"Germany\")\n",
    "plt.scatter(UK_df[\"Date\"], UK_df[\"Morality_rate\"], color=\"g\", label=\"UK\")\n",
    "plt.scatter(india_df[\"Date\"], india_df[\"Morality_rate\"], color=\"k\", label=\"India\")\n",
    "plt.scatter(china_df[\"Date\"], china_df[\"Morality_rate\"], color=\"m\", label=\"China\")\n",
    "plt.legend(loc=\"upper left\")\n",
    "F = plt.gcf()\n",
    "Size = F.get_size_inches()\n",
    "F.set_size_inches(Size[0]*2, Size[1]*4, forward=True) # Set forward to True to resize window along with plot in figure.\n",
    "plt.show()"
   ]
  }
 ],
 "metadata": {
  "kernelspec": {
   "display_name": "Python 3",
   "language": "python",
   "name": "python3"
  },
  "language_info": {
   "codemirror_mode": {
    "name": "ipython",
    "version": 3
   },
   "file_extension": ".py",
   "mimetype": "text/x-python",
   "name": "python",
   "nbconvert_exporter": "python",
   "pygments_lexer": "ipython3",
   "version": "3.6.9"
  }
 },
 "nbformat": 4,
 "nbformat_minor": 4
}
